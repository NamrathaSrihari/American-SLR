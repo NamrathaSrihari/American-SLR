{
 "cells": [
  {
   "cell_type": "code",
   "execution_count": 4,
   "id": "dd599203",
   "metadata": {},
   "outputs": [
    {
     "name": "stdout",
     "output_type": "stream",
     "text": [
      "Loaded model from disk\n"
     ]
    }
   ],
   "source": [
    "import numpy as np\n",
    "from keras.models import model_from_json\n",
    "import operator\n",
    "import cv2\n",
    "import sys,os\n",
    "\n",
    "#Load the model\n",
    "\n",
    "json_file = open(\"model-bw28.json\", \"r\")\n",
    "model_json = json_file.read()\n",
    "json_file.close()\n",
    "loaded_model = model_from_json(model_json)\n",
    "loaded_model.load_weights(\"model-bw28.h5\")\n",
    "print(\"Loaded model from disk\")\n",
    "\n",
    "cap = cv2.VideoCapture(0)\n",
    "\n",
    "# Category dictionary\n",
    "categories = {0: 'Calm down', 1: 'Church', 2: 'Hello', 3: 'Help', 4: 'I love you', 5: 'No', 6: 'Nothing', 7: 'Pray', 8: 'Stand', 9: 'Where', 10: 'Why', 11: 'Yes'}\n",
    "\n",
    "while True:\n",
    "    _, frame = cap.read()\n",
    "    # Simulating mirror image\n",
    "    frame = cv2.flip(frame, 1)\n",
    "    \n",
    "    # Got this from collect-data.py\n",
    "    # Coordinates of the ROI\n",
    "    x1 = int(0.5*frame.shape[1])\n",
    "    y1 = 10\n",
    "    x2 = frame.shape[1]-10\n",
    "    y2 = int(0.5*frame.shape[1])\n",
    "    # Drawing the ROI\n",
    "    # The increment/decrement by 1 is to compensate for the bounding box\n",
    "    cv2.rectangle(frame, (x1-1, y1-1), (x2+1, y2+1), (255,0,0) ,1)\n",
    "    # Extracting the ROI\n",
    "    roi = frame[y1:y2, x1:x2]\n",
    "    \n",
    "    # Resizing the ROI so it can be fed to the model for prediction\n",
    "    roi = cv2.resize(roi, (64, 64)) \n",
    "    roi = cv2.cvtColor(roi, cv2.COLOR_BGR2GRAY)\n",
    "    _, test_image = cv2.threshold(roi, 120, 255, cv2.THRESH_BINARY)\n",
    "    cv2.imshow(\"test\", test_image)\n",
    "    # Batch of 1\n",
    "    result = loaded_model.predict(test_image.reshape(1, 64, 64, 1))\n",
    "    prediction = {'Calm down': result[0][0],\n",
    "                  'Church': result[0][1],\n",
    "                  'Hello': result[0][2],\n",
    "                  'Help': result[0][3],\n",
    "                  'I love you': result[0][4],\n",
    "                  'No': result[0][5],\n",
    "                  'Nothing': result[0][6],\n",
    "                  'Pray': result[0][7],\n",
    "                  'Stand': result[0][8],\n",
    "                  'Where': result[0][9],\n",
    "                  'Why': result[0][10],\n",
    "                  'Yes': result[0][11]\n",
    "                  }\n",
    "    # Sorting based on top prediction\n",
    "    prediction = sorted(prediction.items(), key=operator.itemgetter(1), reverse=True)\n",
    "    \n",
    "    # Displaying the predictions\n",
    "    cv2.putText(frame, prediction[0][0], (10, 120), cv2.FONT_HERSHEY_SIMPLEX, 1, (0,255,255), 2)    \n",
    "    cv2.imshow(\"Frame\", frame)\n",
    "    \n",
    "    interrupt = cv2.waitKey(10)\n",
    "    if interrupt & 0xFF == 27: # esc key\n",
    "        break\n",
    "        \n",
    " \n",
    "cap.release()\n",
    "cv2.destroyAllWindows()"
   ]
  },
  {
   "cell_type": "markdown",
   "id": "1f7a3aa1",
   "metadata": {},
   "source": []
  },
  {
   "cell_type": "code",
   "execution_count": null,
   "id": "2a419f72",
   "metadata": {},
   "outputs": [],
   "source": []
  }
 ],
 "metadata": {
  "kernelspec": {
   "display_name": "Python 3",
   "language": "python",
   "name": "python3"
  },
  "language_info": {
   "codemirror_mode": {
    "name": "ipython",
    "version": 3
   },
   "file_extension": ".py",
   "mimetype": "text/x-python",
   "name": "python",
   "nbconvert_exporter": "python",
   "pygments_lexer": "ipython3",
   "version": "3.9.4"
  }
 },
 "nbformat": 4,
 "nbformat_minor": 5
}
